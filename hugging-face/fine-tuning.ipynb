{
 "cells": [
  {
   "cell_type": "markdown",
   "metadata": {},
   "source": [
    "#### Fine-tuning a model\n",
    "Steps:\n",
    "- identify the model \n",
    "- prepare data\n",
    "- build trainer  (HuggingFace `trainer` can be used for fine-tuning models; `TrainingArguments` are parameters passed into the trainer object )\n",
    "- train"
   ]
  },
  {
   "cell_type": "code",
   "execution_count": null,
   "metadata": {},
   "outputs": [],
   "source": [
    "## Identifying model + preparing data\n",
    "# Import modules\n",
    "from transformers import AutoModelForSequenceClassification, AutoTokenizer\n",
    "model_name = \"distilbert-base-uncased-finetuned-sst-2-english\"\n",
    "# Load the model\n",
    "model = AutoModelForSequenceClassification.from_pretrained(model_name)\n",
    "# Load the tokenizer\n",
    "tokenizer = AutoTokenizer.from_pretrained(model_name)\n",
    "# Use tokenizer on text\n",
    "dataset = dataset.map(lambda row: tokenizer(row[\"text\"], padding=True, max_length=512, truncation=True), keep_in_memory=True)  # .map() to apply a function to each row"
   ]
  },
  {
   "cell_type": "code",
   "execution_count": null,
   "metadata": {},
   "outputs": [],
   "source": [
    "## Build trainer + train\n",
    "from transformers import Trainer, TrainingArguments\n",
    "# Create training arguments\n",
    "training_args = TrainingArguments(output_dir=\"./results\")\n",
    "# Create the trainer\n",
    "trainer = Trainer(\n",
    "    model=model, \n",
    "    args=training_args, \n",
    "    train_dataset=training_data, \n",
    "    eval_dataset=testing_data\n",
    ")\n",
    "# Start the trainer\n",
    "trainer.train()\n",
    "\n",
    "# save model to local path\n",
    "local_path = \"./fine_tuned_model\"\n",
    "trainer.save_model(local_path)\n",
    "\n",
    "# use the fine-tuned model with the pipeline\n",
    "# Create the classifier\n",
    "classifier = pipeline(task=\"sentiment-analysis\", model=\"./fine_tuned_model\")  # your local path\n",
    "# Classify the text\n",
    "results = classifier(text=text_example)\n",
    "print(results)"
   ]
  },
  {
   "cell_type": "markdown",
   "metadata": {},
   "source": [
    "#### Embeddings\n",
    "Vector/numerical representations of something\n",
    "Represent human language to computers, enabling cool stuffs such as recommendation systems, search, fraud detection, ...\n",
    "\n",
    "Benefits:\n",
    "- semantic understanding (captures relationship between words)\n",
    "- can be used as features within ML models\n",
    "- improve generalization (understand unseen/inferred words because encoded semantic info)\n",
    "\n",
    "Challenges:\n",
    "- require large amount of data\n",
    "- inherit biases\n",
    "- blackbox, lower interpretability\n"
   ]
  },
  {
   "cell_type": "code",
   "execution_count": null,
   "metadata": {},
   "outputs": [],
   "source": [
    "from sentence_transformers import SentenceTransformer\n",
    "# Create the first embedding model\n",
    "embedder1 = SentenceTransformer(\"all-MiniLM-L6-v2\")\n",
    "\n",
    "# Embed the sentence\n",
    "embedding = embedder1.encode([sentence])\n"
   ]
  },
  {
   "cell_type": "markdown",
   "metadata": {},
   "source": [
    "#### Semantic Search\n",
    "- instead of keyword search, it understand intend and context. Finds context that matches meaning. \n",
    "- Verctorization; calculating cosine similarity\n",
    "\n",
    "Useful when searching is ambiguous, complex, and unstructured\n"
   ]
  },
  {
   "cell_type": "code",
   "execution_count": null,
   "metadata": {},
   "outputs": [],
   "source": [
    "from sentence_transformers import SentenceTransformer\n",
    "sencoder = SentenceTransformers(model=\"all-MiniLM-L6-v2\")\n",
    "document_embeddings = encoder.encode(documents)\n",
    "query = \"What are the most recent wildlife articles?\"\n",
    "query_embedding = encoder.encode([query])\n"
   ]
  }
 ],
 "metadata": {
  "kernelspec": {
   "display_name": "Python 3",
   "language": "python",
   "name": "python3"
  },
  "language_info": {
   "name": "python",
   "version": "3.13.1"
  }
 },
 "nbformat": 4,
 "nbformat_minor": 2
}
